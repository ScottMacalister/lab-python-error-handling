{
 "cells": [
  {
   "cell_type": "markdown",
   "id": "25d7736c-ba17-4aff-b6bb-66eba20fbf4e",
   "metadata": {},
   "source": [
    "# Lab | Error Handling"
   ]
  },
  {
   "cell_type": "markdown",
   "id": "bc99b386-7508-47a0-bcdb-d969deaf6c8b",
   "metadata": {},
   "source": [
    "## Exercise: Error Handling for Managing Customer Orders\n",
    "\n",
    "The implementation of your code for managing customer orders assumes that the user will always enter a valid input. \n",
    "\n",
    "For example, we could modify the `initialize_inventory` function to include error handling.\n",
    "   - If the user enters an invalid quantity (e.g., a negative value or a non-numeric value), display an error message and ask them to re-enter the quantity for that product.\n",
    "   - Use a try-except block to handle the error and continue prompting the user until a valid quantity is entered.\n",
    "\n",
    "```python\n",
    "# Step 1: Define the function for initializing the inventory with error handling\n",
    "def initialize_inventory(products):\n",
    "    inventory = {}\n",
    "    for product in products:\n",
    "        valid_quantity = False\n",
    "        while not valid_quantity:\n",
    "            try:\n",
    "                quantity = int(input(f\"Enter the quantity of {product}s available: \"))\n",
    "                if quantity < 0:\n",
    "                    raise ValueError(\"Invalid quantity! Please enter a non-negative value.\")\n",
    "                valid_quantity = True\n",
    "            except ValueError as error:\n",
    "                print(f\"Error: {error}\")\n",
    "        inventory[product] = quantity\n",
    "    return inventory\n",
    "\n",
    "# Or, in another way:\n",
    "\n",
    "def initialize_inventory(products):\n",
    "    inventory = {}\n",
    "    for product in products:\n",
    "        valid_input = False\n",
    "        while not valid_input:\n",
    "            try:\n",
    "                quantity = int(input(f\"Enter the quantity of {product}s available: \"))\n",
    "                if quantity >= 0:\n",
    "                    inventory[product] = quantity\n",
    "                    valid_input = True\n",
    "                else:\n",
    "                    print(\"Quantity cannot be negative. Please enter a valid quantity.\")\n",
    "            except ValueError:\n",
    "                print(\"Invalid input. Please enter a valid quantity.\")\n",
    "    return inventory\n",
    "```\n",
    "\n",
    "Let's enhance your code by implementing error handling to handle invalid inputs.\n",
    "\n",
    "Follow the steps below to complete the exercise:\n",
    "\n",
    "2. Modify the `calculate_total_price` function to include error handling.\n",
    "   - If the user enters an invalid price (e.g., a negative value or a non-numeric value), display an error message and ask them to re-enter the price for that product.\n",
    "   - Use a try-except block to handle the error and continue prompting the user until a valid price is entered.\n",
    "\n",
    "3. Modify the `get_customer_orders` function to include error handling.\n",
    "   - If the user enters an invalid number of orders (e.g., a negative value or a non-numeric value), display an error message and ask them to re-enter the number of orders.\n",
    "   - If the user enters an invalid product name (e.g., a product name that is not in the inventory), or that doesn't have stock available, display an error message and ask them to re-enter the product name. *Hint: you will need to pass inventory as a parameter*\n",
    "   - Use a try-except block to handle the error and continue prompting the user until a valid product name is entered.\n",
    "\n",
    "4. Test your code by running the program and deliberately entering invalid quantities and product names. Make sure the error handling mechanism works as expected.\n"
   ]
  },
  {
   "cell_type": "code",
   "execution_count": 4,
   "id": "29aefaef-1f49-4dd0-86ba-adfa3acfc564",
   "metadata": {},
   "outputs": [],
   "source": [
    "products = [\"t-shirt\", \"mug\", \"hat\", \"book\", \"keychain\"]"
   ]
  },
  {
   "cell_type": "code",
   "execution_count": 5,
   "id": "467bba1c-dce1-4fcb-8f91-6eff67625963",
   "metadata": {},
   "outputs": [],
   "source": [
    "inventory = {}"
   ]
  },
  {
   "cell_type": "code",
   "execution_count": 6,
   "id": "1e16d9c0-ed4d-451d-afa9-bfc4e1681ff4",
   "metadata": {},
   "outputs": [
    {
     "name": "stdin",
     "output_type": "stream",
     "text": [
      "\n",
      "How many t-shirts are in stock? Please enter an integer.\n",
      " fifteen\n"
     ]
    },
    {
     "name": "stdout",
     "output_type": "stream",
     "text": [
      "Please enter input as an integer.\n"
     ]
    },
    {
     "name": "stdin",
     "output_type": "stream",
     "text": [
      "\n",
      "How many t-shirts are in stock? Please enter an integer.\n",
      " 15\n",
      "\n",
      "How many mugs are in stock? Please enter an integer.\n",
      " thirty\n"
     ]
    },
    {
     "name": "stdout",
     "output_type": "stream",
     "text": [
      "Please enter input as an integer.\n"
     ]
    },
    {
     "name": "stdin",
     "output_type": "stream",
     "text": [
      "\n",
      "How many mugs are in stock? Please enter an integer.\n",
      " 30\n",
      "\n",
      "How many hats are in stock? Please enter an integer.\n",
      " 25\n",
      "\n",
      "How many books are in stock? Please enter an integer.\n",
      " ten\n"
     ]
    },
    {
     "name": "stdout",
     "output_type": "stream",
     "text": [
      "Please enter input as an integer.\n"
     ]
    },
    {
     "name": "stdin",
     "output_type": "stream",
     "text": [
      "\n",
      "How many books are in stock? Please enter an integer.\n",
      " 10\n",
      "\n",
      "How many keychains are in stock? Please enter an integer.\n",
      " eighty\n"
     ]
    },
    {
     "name": "stdout",
     "output_type": "stream",
     "text": [
      "Please enter input as an integer.\n"
     ]
    },
    {
     "name": "stdin",
     "output_type": "stream",
     "text": [
      "\n",
      "How many keychains are in stock? Please enter an integer.\n",
      " 89\n"
     ]
    }
   ],
   "source": [
    "for product in products:\n",
    "    while True:\n",
    "        try:\n",
    "            quantity = int(input(f\"\\nHow many {product}s are in stock? Please enter an integer.\\n\"))\n",
    "            inventory[product] = quantity\n",
    "            break\n",
    "        except ValueError:\n",
    "            print(\"Please enter input as an integer.\")"
   ]
  },
  {
   "cell_type": "code",
   "execution_count": 7,
   "id": "a9787939-8a7f-44e2-a447-dd45c4b8e554",
   "metadata": {},
   "outputs": [
    {
     "data": {
      "text/plain": [
       "{'t-shirt': 15, 'mug': 30, 'hat': 25, 'book': 10, 'keychain': 89}"
      ]
     },
     "execution_count": 7,
     "metadata": {},
     "output_type": "execute_result"
    }
   ],
   "source": [
    "inventory"
   ]
  },
  {
   "cell_type": "code",
   "execution_count": 8,
   "id": "633d0aea-9486-4002-b2bf-42c15a8bea1b",
   "metadata": {},
   "outputs": [],
   "source": [
    "customer_orders = set()"
   ]
  },
  {
   "cell_type": "code",
   "execution_count": 9,
   "id": "840337df-c0d6-4be1-9231-b1ea48dde12b",
   "metadata": {},
   "outputs": [],
   "source": [
    "def get_customer_orders():\n",
    "    customer_orders = set()\n",
    "    \n",
    "    while True:\n",
    "        order = input(\"Input the name of a product you would like to order from this list:\\nt-shirt, mug, hat, book, keychain: \\n\").strip().lower()\n",
    "\n",
    "        if order in products:\n",
    "            customer_orders.add(order)\n",
    "        else:\n",
    "            print(\"\\nThis is not a valid product. Please order from this list:\\nt-shirt, mug, hat, book, keychain\\n\")\n",
    "            continue  # Retry if the input is invalid\n",
    "\n",
    "        another_order = input(\"\\nWould you like to order another product? Please reply either 'Yes' or 'No': \").strip().lower()\n",
    "        \n",
    "        if another_order != \"yes\":\n",
    "            break  # Exit loop if the user does not want to continue\n",
    "\n",
    "    return customer_orders"
   ]
  },
  {
   "cell_type": "code",
   "execution_count": 10,
   "id": "dec132b8-4da8-4b75-aa8b-5fde0104a40f",
   "metadata": {},
   "outputs": [
    {
     "name": "stdin",
     "output_type": "stream",
     "text": [
      "Input the name of a product you would like to order from this list:\n",
      "t-shirt, mug, hat, book, keychain: \n",
      " t-shirt\n",
      "\n",
      "Would you like to order another product? Please reply either 'Yes' or 'No':  Yes\n",
      "Input the name of a product you would like to order from this list:\n",
      "t-shirt, mug, hat, book, keychain: \n",
      " books\n"
     ]
    },
    {
     "name": "stdout",
     "output_type": "stream",
     "text": [
      "\n",
      "This is not a valid product. Please order from this list:\n",
      "t-shirt, mug, hat, book, keychain\n",
      "\n"
     ]
    },
    {
     "name": "stdin",
     "output_type": "stream",
     "text": [
      "Input the name of a product you would like to order from this list:\n",
      "t-shirt, mug, hat, book, keychain: \n",
      " book\n",
      "\n",
      "Would you like to order another product? Please reply either 'Yes' or 'No':  Yes\n",
      "Input the name of a product you would like to order from this list:\n",
      "t-shirt, mug, hat, book, keychain: \n",
      " hats\n"
     ]
    },
    {
     "name": "stdout",
     "output_type": "stream",
     "text": [
      "\n",
      "This is not a valid product. Please order from this list:\n",
      "t-shirt, mug, hat, book, keychain\n",
      "\n"
     ]
    },
    {
     "name": "stdin",
     "output_type": "stream",
     "text": [
      "Input the name of a product you would like to order from this list:\n",
      "t-shirt, mug, hat, book, keychain: \n",
      " hat\n",
      "\n",
      "Would you like to order another product? Please reply either 'Yes' or 'No':  No\n"
     ]
    },
    {
     "name": "stdout",
     "output_type": "stream",
     "text": [
      "{'t-shirt', 'book', 'hat'}\n"
     ]
    }
   ],
   "source": [
    "customer_orders = get_customer_orders()\n",
    "print(customer_orders)"
   ]
  },
  {
   "cell_type": "code",
   "execution_count": 11,
   "id": "ecfaaa73-00b6-47c2-8186-38c0e3a06cce",
   "metadata": {},
   "outputs": [],
   "source": [
    "def update_inventory(customer_orders, inventory):\n",
    "    for product in customer_orders:\n",
    "        inventory[product] = inventory[product] - 1\n",
    "    return inventory"
   ]
  },
  {
   "cell_type": "code",
   "execution_count": 12,
   "id": "aee1bb4f-65eb-4d83-bfec-d6fcfc944c11",
   "metadata": {},
   "outputs": [],
   "source": [
    "def calculate_order_statistics(customer_orders):\n",
    "    total_products = len(customer_orders)\n",
    "    percentage_products = total_products * 20\n",
    "    return (total_products, percentage_products)"
   ]
  },
  {
   "cell_type": "code",
   "execution_count": 13,
   "id": "88e69331-db31-415a-827e-583878381d9c",
   "metadata": {},
   "outputs": [
    {
     "name": "stdout",
     "output_type": "stream",
     "text": [
      "(3, 60)\n"
     ]
    }
   ],
   "source": [
    "order_statistics = calculate_order_statistics(customer_orders)\n",
    "print(order_statistics)"
   ]
  },
  {
   "cell_type": "code",
   "execution_count": 14,
   "id": "461edd58-cc6c-41d0-9756-ad433e04b41b",
   "metadata": {},
   "outputs": [],
   "source": [
    "def print_order_statistics(order_statistics):\n",
    "    return print(f\"Order Statistics:\\nTotal Products Ordered: {order_statistics[0]}\\nPercentage of Products Ordered: {order_statistics[1]}%\")"
   ]
  },
  {
   "cell_type": "code",
   "execution_count": 15,
   "id": "9e9edaf1-985f-42ae-8ca2-24a7cf20950b",
   "metadata": {},
   "outputs": [
    {
     "name": "stdout",
     "output_type": "stream",
     "text": [
      "Order Statistics:\n",
      "Total Products Ordered: 3\n",
      "Percentage of Products Ordered: 60%\n"
     ]
    }
   ],
   "source": [
    "print_order = print_order_statistics(order_statistics)"
   ]
  },
  {
   "cell_type": "code",
   "execution_count": 16,
   "id": "f6556d73-9469-4f06-9ecd-d581f830458b",
   "metadata": {},
   "outputs": [
    {
     "name": "stdout",
     "output_type": "stream",
     "text": [
      "{'t-shirt': 14, 'mug': 30, 'hat': 24, 'book': 9, 'keychain': 89}\n"
     ]
    }
   ],
   "source": [
    "updated_inventory = update_inventory(customer_orders, inventory)\n",
    "print(updated_inventory)"
   ]
  }
 ],
 "metadata": {
  "kernelspec": {
   "display_name": "Python 3 (ipykernel)",
   "language": "python",
   "name": "python3"
  },
  "language_info": {
   "codemirror_mode": {
    "name": "ipython",
    "version": 3
   },
   "file_extension": ".py",
   "mimetype": "text/x-python",
   "name": "python",
   "nbconvert_exporter": "python",
   "pygments_lexer": "ipython3",
   "version": "3.12.4"
  }
 },
 "nbformat": 4,
 "nbformat_minor": 5
}
